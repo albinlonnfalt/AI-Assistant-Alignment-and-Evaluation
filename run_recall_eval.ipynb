{
 "cells": [
  {
   "cell_type": "code",
   "execution_count": 17,
   "metadata": {},
   "outputs": [],
   "source": [
    "import os\n",
    "import json\n",
    "from azure.core.credentials import AzureKeyCredential\n",
    "from dotenv import load_dotenv\n",
    "from azure.search.documents import SearchClient\n",
    "load_dotenv()\n",
    "\n",
    "aoai_endpoint = os.getenv(\"AZURE_OPENAI_API_BASE\")\n",
    "aoai_key = os.getenv(\"AZURE_OPENAI_API_KEY\")\n",
    "aoai_api_version = os.getenv(\"AZURE_OPENAI_API_VERSION\")\n",
    "aoai_chat_model = os.getenv(\"AZURE_OPENAI_MODEL\")\n",
    "aoai_chat_model_mini = os.getenv(\"AZURE_OPENAI_MODEL_MINI\")\n",
    "aoai_embedding_model = os.getenv(\"AZURE_OPENAI_EMBEDDING_MODEL\")\n",
    "search_endpoint = os.getenv(\"SEARCH_ENDPOINT\")\n",
    "search_key = os.getenv(\"SEARCH_KEY\")\n",
    "search_index = os.getenv(\"SEARCH_INDEX\")\n",
    "credential = AzureKeyCredential(search_key)\n",
    "\n",
    "chunk_file_path = \"synthetic_data_generator/config/chunks.json\"\n",
    "synthetic_questions_file_path = \"synthetic_data_generator/output/synthetic_data.json\""
   ]
  },
  {
   "cell_type": "markdown",
   "metadata": {},
   "source": [
    "# Get Data From Index to Base Synthetic Data\n",
    "- Retive 500 arbitrary chunks"
   ]
  },
  {
   "cell_type": "code",
   "execution_count": 18,
   "metadata": {},
   "outputs": [],
   "source": [
    "\"Get 500 chunks from index\"\n",
    "\n",
    "search_client = SearchClient(endpoint=search_endpoint, index_name=search_index, credential=credential)\n",
    "\n",
    "results = search_client.search(\n",
    "    search_text=\"*\",\n",
    "    top=500\n",
    ")\n",
    "\n",
    "for document in results:\n",
    "\n",
    "    # Adapt the name to you schema\n",
    "    data = {\"content\": document[\"chunk\"], \"chunk_id\": document[\"chunk_id\"]}\n",
    "\n",
    "    if os.path.exists(chunk_file_path):\n",
    "        with open(chunk_file_path, 'r', encoding='utf-8') as file:\n",
    "            try:\n",
    "                existing_data = json.load(file)\n",
    "                if not isinstance(existing_data, list):\n",
    "                    existing_data = []\n",
    "            except json.JSONDecodeError:\n",
    "                existing_data = []\n",
    "    else:\n",
    "        existing_data = []\n",
    "\n",
    "    existing_data.append(data)\n",
    "\n",
    "    with open(chunk_file_path, 'w', encoding='utf-8') as file:\n",
    "        json.dump(existing_data, file, indent=4)\n",
    "\n"
   ]
  },
  {
   "cell_type": "markdown",
   "metadata": {},
   "source": [
    "# Generate Synthetic Data\n",
    "- Take a random chunk and ask gpt-4o to generate a questions that can be answered by that specific chunk \n",
    "- Repeat for 'number_of_generated_rows' times (Adjust to how many you want)"
   ]
  },
  {
   "cell_type": "code",
   "execution_count": 19,
   "metadata": {},
   "outputs": [],
   "source": [
    "from synthetic_data_generator.data_generator import generate_data\n",
    "\n",
    "generate_data(\n",
    "    chunk_path=chunk_file_path,\n",
    "    injection_folder_path=\"synthetic_data_generator/config/injections\",\n",
    "    context_file_path=\"synthetic_data_generator/config/context.json\",\n",
    "    length_config_file=\"synthetic_data_generator/config/response_lengh_distrubution.json\",\n",
    "    number_of_generated_rows=5,\n",
    "    output_file_path=synthetic_questions_file_path\n",
    ")"
   ]
  },
  {
   "cell_type": "markdown",
   "metadata": {},
   "source": [
    "# Evaluate Performance\n",
    "- Take the generated questions and search on you index\n",
    "- Check if the chunk that was used to generate the questions was retrived.\n",
    "- Calcualted recall and show figure "
   ]
  },
  {
   "cell_type": "markdown",
   "metadata": {},
   "source": [
    "Config search. This will be used in the next cell"
   ]
  },
  {
   "cell_type": "code",
   "execution_count": 20,
   "metadata": {},
   "outputs": [],
   "source": [
    "def get_search_results(query, index):\n",
    "    try:\n",
    "        # perform search query\n",
    "        search_client = SearchClient(endpoint=search_endpoint, index_name=index, credential=credential)\n",
    "        results = search_client.search(\n",
    "            search_text=query,\n",
    "            top=4,\n",
    "        )\n",
    "\n",
    "        # format search results\n",
    "        data = []\n",
    "        for result in results:\n",
    "            data.append(\n",
    "                result[\"chunk_id\"],\n",
    "            )\n",
    "        return data\n",
    "    except Exception as e:\n",
    "        print(e)\n",
    "        return None"
   ]
  },
  {
   "cell_type": "markdown",
   "metadata": {},
   "source": [
    "Go through the generated questions, search in index and check if expected chunkId was retirved"
   ]
  },
  {
   "cell_type": "code",
   "execution_count": 21,
   "metadata": {},
   "outputs": [],
   "source": [
    "import json\n",
    "\n",
    "# Load file\n",
    "with open(synthetic_questions_file_path, 'r') as file:\n",
    "    questions = json.load(file)\n",
    "\n",
    "results = []\n",
    "\n",
    "# Search for each question and check if the expected chunk id is in the search results\n",
    "for entry in questions:\n",
    "    question = entry.get(\"question\")\n",
    "    expected_chunk_id = entry.get(\"correct_chunk\")\n",
    "    \n",
    "    chunk_ids = get_search_results(query=question, index=search_index)\n",
    "\n",
    "    # Check if the expected chunk id is in the search results\n",
    "    results.append(expected_chunk_id in chunk_ids)\n",
    "    \n"
   ]
  },
  {
   "cell_type": "code",
   "execution_count": 22,
   "metadata": {},
   "outputs": [
    {
     "name": "stdout",
     "output_type": "stream",
     "text": [
      "Recall: 0.60\n"
     ]
    },
    {
     "data": {
      "image/png": "[encoded data removed]",
      "text/plain": [
       "<Figure size 600x400 with 1 Axes>"
      ]
     },
     "metadata": {},
     "output_type": "display_data"
    }
   ],
   "source": [
    "import matplotlib.pyplot as plt\n",
    "from collections import Counter\n",
    "\n",
    "# Assuming 'results' is already populated with booleans\n",
    "counts = Counter(results)  # Count True and False values\n",
    "\n",
    "# Calculate recall: recall = true positives / (true positives + false negatives)\n",
    "true_count = counts.get(True, 0)\n",
    "false_count = counts.get(False, 0)\n",
    "recall = true_count / (true_count + false_count) if (true_count + false_count) > 0 else 0\n",
    "\n",
    "# Print recall before plotting\n",
    "print(f\"Recall: {recall:.2f}\")\n",
    "\n",
    "# Prepare data for plotting using a bar graph\n",
    "labels = list(counts.keys())\n",
    "values = list(counts.values())\n",
    "\n",
    "plt.figure(figsize=(6, 4))\n",
    "plt.bar(labels, values, color=['green' if label is True else 'red' for label in labels])\n",
    "plt.xlabel(\"Correctly retirved\")\n",
    "plt.ylabel(\"Count\")\n",
    "plt.title(\"Number of correctly retrieved chunks\")\n",
    "\n",
    "plt.xticks(labels, [str(label) for label in labels])\n",
    "plt.tight_layout()\n",
    "plt.show()"
   ]
  }
 ],
 "metadata": {
  "kernelspec": {
   "display_name": "ai_alignment",
   "language": "python",
   "name": "python3"
  },
  "language_info": {
   "codemirror_mode": {
    "name": "ipython",
    "version": 3
   },
   "file_extension": ".py",
   "mimetype": "text/x-python",
   "name": "python",
   "nbconvert_exporter": "python",
   "pygments_lexer": "ipython3",
   "version": "3.11.11"
  }
 },
 "nbformat": 4,
 "nbformat_minor": 2
}
