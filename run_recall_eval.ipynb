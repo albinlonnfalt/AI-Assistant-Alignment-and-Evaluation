{
 "cells": [
  {
   "cell_type": "code",
   "execution_count": 22,
   "metadata": {},
   "outputs": [],
   "source": [
    "import os\n",
    "import json\n",
    "from azure.core.credentials import AzureKeyCredential\n",
    "from dotenv import load_dotenv\n",
    "from azure.search.documents import SearchClient\n",
    "load_dotenv()\n",
    "\n",
    "aoai_endpoint = os.getenv(\"AZURE_OPENAI_API_BASE\")\n",
    "aoai_key = os.getenv(\"AZURE_OPENAI_API_KEY\")\n",
    "aoai_api_version = os.getenv(\"AZURE_OPENAI_API_VERSION\")\n",
    "aoai_chat_model = os.getenv(\"AZURE_OPENAI_MODEL\")\n",
    "aoai_chat_model_mini = os.getenv(\"AZURE_OPENAI_MODEL_MINI\")\n",
    "aoai_embedding_model = os.getenv(\"AZURE_OPENAI_EMBEDDING_MODEL\")\n",
    "search_endpoint = os.getenv(\"SEARCH_ENDPOINT\")\n",
    "search_key = os.getenv(\"SEARCH_KEY\")\n",
    "search_index = os.getenv(\"SEARCH_INDEX\")\n",
    "credential = AzureKeyCredential(search_key)\n",
    "\n",
    "chunk_file_path = \"synthetic_data_generator/config/chunks.json\"\n",
    "synthetic_questions_file_path = \"synthetic_data_generator/output/synthetic_data.json\""
   ]
  },
  {
   "cell_type": "markdown",
   "metadata": {},
   "source": [
    "# Get Data From Index to Base Synthetic Data"
   ]
  },
  {
   "cell_type": "code",
   "execution_count": 6,
   "metadata": {},
   "outputs": [],
   "source": [
    "\"Get 500 chunks from index\"\n",
    "\n",
    "search_client = SearchClient(endpoint=search_endpoint, index_name=search_index, credential=credential)\n",
    "\n",
    "results = search_client.search(\n",
    "    search_text=\"*\",\n",
    "    top=500\n",
    ")\n",
    "\n",
    "for document in results:\n",
    "\n",
    "    data = {\"content\": document[\"chunk\"], \"chunk_id\": document[\"chunk_id\"]}\n",
    "\n",
    "    if os.path.exists(chunk_file_path):\n",
    "        with open(chunk_file_path, 'r', encoding='utf-8') as file:\n",
    "            try:\n",
    "                existing_data = json.load(file)\n",
    "                if not isinstance(existing_data, list):\n",
    "                    existing_data = []\n",
    "            except json.JSONDecodeError:\n",
    "                existing_data = []\n",
    "    else:\n",
    "        existing_data = []\n",
    "\n",
    "    existing_data.append(data)\n",
    "\n",
    "    with open(chunk_file_path, 'w', encoding='utf-8') as file:\n",
    "        json.dump(existing_data, file, indent=4)\n",
    "\n"
   ]
  },
  {
   "cell_type": "markdown",
   "metadata": {},
   "source": [
    "# Generate Synthetic Data"
   ]
  },
  {
   "cell_type": "code",
   "execution_count": 16,
   "metadata": {},
   "outputs": [],
   "source": [
    "from synthetic_data_generator.data_generator import generate_data\n",
    "\n",
    "generate_data(\n",
    "    chunk_path=chunk_file_path,\n",
    "    injection_folder_path=\"synthetic_data_generator/config/injections\",\n",
    "    context_file_path=\"synthetic_data_generator/config/context.json\",\n",
    "    length_config_file=\"synthetic_data_generator/config/response_lengh_distrubution.json\",\n",
    "    number_of_generated_rows=5,\n",
    "    output_file_path=synthetic_questions_file_path\n",
    ")"
   ]
  },
  {
   "cell_type": "markdown",
   "metadata": {},
   "source": [
    "Config you Search here"
   ]
  },
  {
   "cell_type": "code",
   "execution_count": 17,
   "metadata": {},
   "outputs": [],
   "source": [
    "def get_search_results(query, index):\n",
    "    try:\n",
    "        # perform search query\n",
    "        search_client = SearchClient(endpoint=search_endpoint, index_name=index, credential=credential)\n",
    "        results = search_client.search(\n",
    "            search_text=query,\n",
    "            top=4,\n",
    "        )\n",
    "\n",
    "        # format search results\n",
    "        data = []\n",
    "        for result in results:\n",
    "            data.append(\n",
    "                {\n",
    "                    \"chunk_id\": result[\"chunk_id\"],\n",
    "                }\n",
    "            )\n",
    "        return data\n",
    "    except Exception as e:\n",
    "        print(e)\n",
    "        return None"
   ]
  },
  {
   "cell_type": "markdown",
   "metadata": {},
   "source": [
    "Loop through the data and see if the correct chunk was retrived"
   ]
  },
  {
   "cell_type": "code",
   "execution_count": 20,
   "metadata": {},
   "outputs": [],
   "source": [
    "import json\n",
    "\n",
    "with open(synthetic_questions_file_path, 'r') as file:\n",
    "    questions = json.load(file)\n",
    "\n",
    "results = []\n",
    "\n",
    "for entry in questions:\n",
    "    question = entry.get(\"question\")\n",
    "    expected_chunk_id = entry.get(\"chunk_id\")\n",
    "    \n",
    "    chunk_ids = get_search_results(query=question, index=search_index)\n",
    "\n",
    "    results.append(expected_chunk_id in chunk_ids)\n",
    "    \n"
   ]
  },
  {
   "cell_type": "code",
   "execution_count": 21,
   "metadata": {},
   "outputs": [
    {
     "data": {
      "image/png": "[encoded data removed]",
      "text/plain": [
       "<Figure size 600x400 with 1 Axes>"
      ]
     },
     "metadata": {},
     "output_type": "display_data"
    }
   ],
   "source": [
    "import matplotlib.pyplot as plt\n",
    "from collections import Counter\n",
    "\n",
    "# Assuming 'results' is already populated with booleans\n",
    "counts = Counter(results)  # Count True and False values\n",
    "\n",
    "# Prepare data for plotting using a bar graph\n",
    "labels = list(counts.keys())\n",
    "values = list(counts.values())\n",
    "\n",
    "plt.figure(figsize=(6, 4))\n",
    "plt.bar(labels, values, color=['green', 'red'])\n",
    "plt.xlabel(\"Result (Boolean)\")\n",
    "plt.ylabel(\"Count\")\n",
    "plt.title(\"Count of True vs False in 'results'\")\n",
    "plt.xticks(labels, [str(label) for label in labels])\n",
    "plt.show()"
   ]
  }
 ],
 "metadata": {
  "kernelspec": {
   "display_name": "ai_alignment",
   "language": "python",
   "name": "python3"
  },
  "language_info": {
   "codemirror_mode": {
    "name": "ipython",
    "version": 3
   },
   "file_extension": ".py",
   "mimetype": "text/x-python",
   "name": "python",
   "nbconvert_exporter": "python",
   "pygments_lexer": "ipython3",
   "version": "3.11.11"
  }
 },
 "nbformat": 4,
 "nbformat_minor": 2
}
